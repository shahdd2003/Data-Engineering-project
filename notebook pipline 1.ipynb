{
 "cells": [
  {
   "cell_type": "code",
   "execution_count": null,
   "metadata": {},
   "outputs": [],
   "source": [
    "import pandas as pd\n",
    "\n",
    "df_nl = pd.read_csv(\"abfss://#####@#######.dfs.core.windows.net/PData_JS.csv\")\n",
    "df_sa = pd.read_csv(\"abfss://#####@#######.dfs.core.windows.net/PData_ES.csv\")\n",
    "df_eg = pd.read_csv(\"abfss://#####@#######.dfs.core.windows.net/PData.csv\")\n",
    "\n",
    "df = pd.concat([df_js,df_es,df_d],ignore_index=True)\n",
    "\n",
    "df.to_csv('abfss://#####@#######.dfs.core.windows.net/DataJumiaEbay.csv', index=False)\n",
    "#df.to_parquet('abfss://#####@#######.dfs.core.windows.net/PDataConcatData.parquet', index=False)"
   ]
  },
  {
   "cell_type": "code",
   "execution_count": null,
   "metadata": {},
   "outputs": [],
   "source": [
    "df.to_parquet('abfss://#####@#######.dfs.core.windows.net/DataJumiaEbay.parquet', index=False)"
   ]
  },
  {
   "cell_type": "code",
   "execution_count": null,
   "metadata": {},
   "outputs": [],
   "source": []
  },
  {
   "cell_type": "code",
   "execution_count": null,
   "metadata": {},
   "outputs": [],
   "source": []
  },
  {
   "cell_type": "code",
   "execution_count": null,
   "metadata": {},
   "outputs": [],
   "source": []
  }
 ],
 "metadata": {
  "language_info": {
   "name": "python"
  }
 },
 "nbformat": 4,
 "nbformat_minor": 2
}
